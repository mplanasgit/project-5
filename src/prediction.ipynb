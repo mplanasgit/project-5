{
 "cells": [
  {
   "cell_type": "markdown",
   "id": "e70f8d62",
   "metadata": {},
   "source": [
    "**Goal: To predict the price of diamonds based on their characteristics**"
   ]
  },
  {
   "cell_type": "markdown",
   "id": "e78b41f0",
   "metadata": {},
   "source": [
    "**Libraries**"
   ]
  },
  {
   "cell_type": "code",
   "execution_count": 21,
   "id": "21766ed4",
   "metadata": {},
   "outputs": [],
   "source": [
    "# for operation\n",
    "import pandas as pd\n",
    "\n",
    "# for visualization\n",
    "import seaborn as sns\n",
    "from matplotlib import pyplot as plt\n",
    "%matplotlib inline\n",
    "%config Inlinebackend.figure_format = 'retina'\n",
    "sns.set_context('poster')\n",
    "sns.set(rc={'figure.figsize': (8, 4)})\n",
    "sns.set_style('whitegrid')"
   ]
  },
  {
   "cell_type": "markdown",
   "id": "50c5c212",
   "metadata": {},
   "source": [
    "---"
   ]
  },
  {
   "cell_type": "markdown",
   "id": "b5f467f7",
   "metadata": {},
   "source": [
    "# Import"
   ]
  },
  {
   "cell_type": "code",
   "execution_count": 4,
   "id": "b744b614",
   "metadata": {},
   "outputs": [],
   "source": [
    "# importing clean dataset\n",
    "diamonds = pd.read_csv('../dataset/diamonds_clean.csv', index_col = 'id')"
   ]
  },
  {
   "cell_type": "code",
   "execution_count": 7,
   "id": "1bb14ae3",
   "metadata": {},
   "outputs": [
    {
     "data": {
      "text/html": [
       "<div>\n",
       "<style scoped>\n",
       "    .dataframe tbody tr th:only-of-type {\n",
       "        vertical-align: middle;\n",
       "    }\n",
       "\n",
       "    .dataframe tbody tr th {\n",
       "        vertical-align: top;\n",
       "    }\n",
       "\n",
       "    .dataframe thead th {\n",
       "        text-align: right;\n",
       "    }\n",
       "</style>\n",
       "<table border=\"1\" class=\"dataframe\">\n",
       "  <thead>\n",
       "    <tr style=\"text-align: right;\">\n",
       "      <th></th>\n",
       "      <th>carat</th>\n",
       "      <th>cut</th>\n",
       "      <th>color</th>\n",
       "      <th>clarity</th>\n",
       "      <th>depth</th>\n",
       "      <th>table</th>\n",
       "      <th>x</th>\n",
       "      <th>y</th>\n",
       "      <th>z</th>\n",
       "      <th>price</th>\n",
       "    </tr>\n",
       "    <tr>\n",
       "      <th>id</th>\n",
       "      <th></th>\n",
       "      <th></th>\n",
       "      <th></th>\n",
       "      <th></th>\n",
       "      <th></th>\n",
       "      <th></th>\n",
       "      <th></th>\n",
       "      <th></th>\n",
       "      <th></th>\n",
       "      <th></th>\n",
       "    </tr>\n",
       "  </thead>\n",
       "  <tbody>\n",
       "    <tr>\n",
       "      <th>4313</th>\n",
       "      <td>0.74</td>\n",
       "      <td>4</td>\n",
       "      <td>4</td>\n",
       "      <td>3</td>\n",
       "      <td>60.5</td>\n",
       "      <td>59.0</td>\n",
       "      <td>5.81</td>\n",
       "      <td>5.86</td>\n",
       "      <td>3.53</td>\n",
       "      <td>7.985</td>\n",
       "    </tr>\n",
       "  </tbody>\n",
       "</table>\n",
       "</div>"
      ],
      "text/plain": [
       "      carat  cut  color  clarity  depth  table     x     y     z  price\n",
       "id                                                                     \n",
       "4313   0.74    4      4        3   60.5   59.0  5.81  5.86  3.53  7.985"
      ]
     },
     "execution_count": 7,
     "metadata": {},
     "output_type": "execute_result"
    }
   ],
   "source": [
    "# checking\n",
    "diamonds.sample()"
   ]
  },
  {
   "cell_type": "markdown",
   "id": "8d021813",
   "metadata": {},
   "source": [
    "# Check ML models"
   ]
  },
  {
   "cell_type": "markdown",
   "id": "9ebf0b7a",
   "metadata": {},
   "source": [
    "1. Find which is the best model - include crossvalidation\n",
    "2. Feature Selection to remove the ones that do not affect the price\n",
    "3. Change parameters to minimze RMSE -> split size, change values in categoricals"
   ]
  },
  {
   "cell_type": "code",
   "execution_count": 11,
   "id": "9d00c6bf",
   "metadata": {},
   "outputs": [],
   "source": [
    "# defining sets\n",
    "X = diamonds[[\"carat\", \"cut\", \"color\", \"clarity\", \"depth\", \"table\", \"x\", \"y\", \"z\"]]\n",
    "y = diamonds[\"price\"]"
   ]
  },
  {
   "cell_type": "markdown",
   "id": "f29c1973",
   "metadata": {},
   "source": [
    "## Considering all features"
   ]
  },
  {
   "cell_type": "markdown",
   "id": "7372d8a3",
   "metadata": {},
   "source": [
    "### Lazy Predict"
   ]
  },
  {
   "cell_type": "code",
   "execution_count": 20,
   "id": "7df4ffe9",
   "metadata": {},
   "outputs": [],
   "source": [
    "# lets first try lazypredict: doesn't consider hyperparameter tuning\n",
    "\n",
    "from lazypredict.Supervised import LazyRegressor\n",
    "\n",
    "offset = int(X.shape[0] * 0.8)\n",
    "\n",
    "X_train, y_train = X[:offset], y[:offset]\n",
    "X_test, y_test = X[offset:], y[offset:]\n",
    "\n",
    "# reg = LazyRegressor(verbose=0, ignore_warnings=False, custom_metric=None)\n",
    "# models, predictions = reg.fit(X_train, X_test, y_train, y_test)\n",
    "\n",
    "# print(models)"
   ]
  },
  {
   "attachments": {
    "image.png": {
     "image/png": "[encoded data removed]"
    }
   },
   "cell_type": "markdown",
   "id": "abf4a417",
   "metadata": {},
   "source": [
    "![image.png](attachment:image.png)"
   ]
  },
  {
   "cell_type": "markdown",
   "id": "90526795",
   "metadata": {},
   "source": [
    "### h2o AutoML"
   ]
  },
  {
   "cell_type": "code",
   "execution_count": 23,
   "id": "8ed2a795",
   "metadata": {},
   "outputs": [
    {
     "name": "stdout",
     "output_type": "stream",
     "text": [
      "Checking whether there is an H2O instance running at http://localhost:54321 ..... not found.\n",
      "Attempting to start a local H2O server...\n",
      "; Java HotSpot(TM) 64-Bit Server VM (build 25.361-b09, mixed mode)\n",
      "  Starting server from C:\\Users\\mplan\\anaconda3\\envs\\Ironhack\\Lib\\site-packages\\h2o\\backend\\bin\\h2o.jar\n",
      "  Ice root: C:\\Users\\mplan\\AppData\\Local\\Temp\\tmpd8vwt3a_\n",
      "  JVM stdout: C:\\Users\\mplan\\AppData\\Local\\Temp\\tmpd8vwt3a_\\h2o_mplan_started_from_python.out\n",
      "  JVM stderr: C:\\Users\\mplan\\AppData\\Local\\Temp\\tmpd8vwt3a_\\h2o_mplan_started_from_python.err\n",
      "  Server is running at http://127.0.0.1:54321\n",
      "Connecting to H2O server at http://127.0.0.1:54321 ... successful.\n"
     ]
    },
    {
     "data": {
      "text/html": [
       "\n",
       "<style>\n",
       "\n",
       "#h2o-table-1.h2o-container {\n",
       "  overflow-x: auto;\n",
       "}\n",
       "#h2o-table-1 .h2o-table {\n",
       "  /* width: 100%; */\n",
       "  margin-top: 1em;\n",
       "  margin-bottom: 1em;\n",
       "}\n",
       "#h2o-table-1 .h2o-table caption {\n",
       "  white-space: nowrap;\n",
       "  caption-side: top;\n",
       "  text-align: left;\n",
       "  /* margin-left: 1em; */\n",
       "  margin: 0;\n",
       "  font-size: larger;\n",
       "}\n",
       "#h2o-table-1 .h2o-table thead {\n",
       "  white-space: nowrap; \n",
       "  position: sticky;\n",
       "  top: 0;\n",
       "  box-shadow: 0 -1px inset;\n",
       "}\n",
       "#h2o-table-1 .h2o-table tbody {\n",
       "  overflow: auto;\n",
       "}\n",
       "#h2o-table-1 .h2o-table th,\n",
       "#h2o-table-1 .h2o-table td {\n",
       "  text-align: right;\n",
       "  /* border: 1px solid; */\n",
       "}\n",
       "#h2o-table-1 .h2o-table tr:nth-child(even) {\n",
       "  /* background: #F5F5F5 */\n",
       "}\n",
       "\n",
       "</style>      \n",
       "<div id=\"h2o-table-1\" class=\"h2o-container\">\n",
       "  <table class=\"h2o-table\">\n",
       "    <caption></caption>\n",
       "    <thead></thead>\n",
       "    <tbody><tr><td>H2O_cluster_uptime:</td>\n",
       "<td>03 secs</td></tr>\n",
       "<tr><td>H2O_cluster_timezone:</td>\n",
       "<td>Europe/Paris</td></tr>\n",
       "<tr><td>H2O_data_parsing_timezone:</td>\n",
       "<td>UTC</td></tr>\n",
       "<tr><td>H2O_cluster_version:</td>\n",
       "<td>3.38.0.4</td></tr>\n",
       "<tr><td>H2O_cluster_version_age:</td>\n",
       "<td>20 days </td></tr>\n",
       "<tr><td>H2O_cluster_name:</td>\n",
       "<td>H2O_from_python_mplan_n52bnn</td></tr>\n",
       "<tr><td>H2O_cluster_total_nodes:</td>\n",
       "<td>1</td></tr>\n",
       "<tr><td>H2O_cluster_free_memory:</td>\n",
       "<td>3.516 Gb</td></tr>\n",
       "<tr><td>H2O_cluster_total_cores:</td>\n",
       "<td>8</td></tr>\n",
       "<tr><td>H2O_cluster_allowed_cores:</td>\n",
       "<td>8</td></tr>\n",
       "<tr><td>H2O_cluster_status:</td>\n",
       "<td>locked, healthy</td></tr>\n",
       "<tr><td>H2O_connection_url:</td>\n",
       "<td>http://127.0.0.1:54321</td></tr>\n",
       "<tr><td>H2O_connection_proxy:</td>\n",
       "<td>{\"http\": null, \"https\": null}</td></tr>\n",
       "<tr><td>H2O_internal_security:</td>\n",
       "<td>False</td></tr>\n",
       "<tr><td>Python_version:</td>\n",
       "<td>3.9.13 final</td></tr></tbody>\n",
       "  </table>\n",
       "</div>\n"
      ],
      "text/plain": [
       "--------------------------  -----------------------------\n",
       "H2O_cluster_uptime:         03 secs\n",
       "H2O_cluster_timezone:       Europe/Paris\n",
       "H2O_data_parsing_timezone:  UTC\n",
       "H2O_cluster_version:        3.38.0.4\n",
       "H2O_cluster_version_age:    20 days\n",
       "H2O_cluster_name:           H2O_from_python_mplan_n52bnn\n",
       "H2O_cluster_total_nodes:    1\n",
       "H2O_cluster_free_memory:    3.516 Gb\n",
       "H2O_cluster_total_cores:    8\n",
       "H2O_cluster_allowed_cores:  8\n",
       "H2O_cluster_status:         locked, healthy\n",
       "H2O_connection_url:         http://127.0.0.1:54321\n",
       "H2O_connection_proxy:       {\"http\": null, \"https\": null}\n",
       "H2O_internal_security:      False\n",
       "Python_version:             3.9.13 final\n",
       "--------------------------  -----------------------------"
      ]
     },
     "metadata": {},
     "output_type": "display_data"
    }
   ],
   "source": [
    "# start h2o\n",
    "\n",
    "import h2o\n",
    "from h2o.automl import H2OAutoML\n",
    "h2o.init()"
   ]
  },
  {
   "cell_type": "code",
   "execution_count": 25,
   "id": "f156f6f0",
   "metadata": {},
   "outputs": [
    {
     "name": "stdout",
     "output_type": "stream",
     "text": [
      "Parse progress: |████████████████████████████████████████████████████████████████| (done) 100%\n"
     ]
    }
   ],
   "source": [
    "# Load data into H2O\n",
    "\n",
    "df = h2o.import_file('../dataset/diamonds_clean.csv')"
   ]
  },
  {
   "cell_type": "code",
   "execution_count": 30,
   "id": "33e33361",
   "metadata": {},
   "outputs": [],
   "source": [
    "df = df.drop(['id'], axis=1) # dropping the 'id' column"
   ]
  },
  {
   "cell_type": "code",
   "execution_count": 33,
   "id": "87fc533f",
   "metadata": {},
   "outputs": [
    {
     "data": {
      "text/html": [
       "<table class='dataframe'>\n",
       "<thead>\n",
       "<tr><th style=\"text-align: right;\">  carat</th><th style=\"text-align: right;\">  cut</th><th style=\"text-align: right;\">  color</th><th style=\"text-align: right;\">  clarity</th><th style=\"text-align: right;\">  depth</th><th style=\"text-align: right;\">  table</th><th style=\"text-align: right;\">   x</th><th style=\"text-align: right;\">   y</th><th style=\"text-align: right;\">   z</th><th style=\"text-align: right;\">  price</th></tr>\n",
       "</thead>\n",
       "<tbody>\n",
       "<tr><td style=\"text-align: right;\">   1.02</td><td style=\"text-align: right;\">    1</td><td style=\"text-align: right;\">      6</td><td style=\"text-align: right;\">        3</td><td style=\"text-align: right;\">   63.2</td><td style=\"text-align: right;\">     58</td><td style=\"text-align: right;\">6.36</td><td style=\"text-align: right;\">6.4 </td><td style=\"text-align: right;\">4.03</td><td style=\"text-align: right;\">  8.928</td></tr>\n",
       "<tr><td style=\"text-align: right;\">   0.35</td><td style=\"text-align: right;\">    2</td><td style=\"text-align: right;\">      2</td><td style=\"text-align: right;\">        5</td><td style=\"text-align: right;\">   61  </td><td style=\"text-align: right;\">     57</td><td style=\"text-align: right;\">4.54</td><td style=\"text-align: right;\">4.57</td><td style=\"text-align: right;\">2.77</td><td style=\"text-align: right;\">  6.477</td></tr>\n",
       "<tr><td style=\"text-align: right;\">   0.31</td><td style=\"text-align: right;\">    3</td><td style=\"text-align: right;\">      2</td><td style=\"text-align: right;\">        6</td><td style=\"text-align: right;\">   60.5</td><td style=\"text-align: right;\">     58</td><td style=\"text-align: right;\">4.43</td><td style=\"text-align: right;\">4.4 </td><td style=\"text-align: right;\">2.67</td><td style=\"text-align: right;\">  6.81 </td></tr>\n",
       "<tr><td style=\"text-align: right;\">   0.38</td><td style=\"text-align: right;\">    4</td><td style=\"text-align: right;\">      5</td><td style=\"text-align: right;\">        4</td><td style=\"text-align: right;\">   61.4</td><td style=\"text-align: right;\">     56</td><td style=\"text-align: right;\">4.66</td><td style=\"text-align: right;\">4.69</td><td style=\"text-align: right;\">2.87</td><td style=\"text-align: right;\">  6.824</td></tr>\n",
       "<tr><td style=\"text-align: right;\">   1.64</td><td style=\"text-align: right;\">    4</td><td style=\"text-align: right;\">      3</td><td style=\"text-align: right;\">        5</td><td style=\"text-align: right;\">   61.8</td><td style=\"text-align: right;\">     56</td><td style=\"text-align: right;\">7.59</td><td style=\"text-align: right;\">7.6 </td><td style=\"text-align: right;\">4.69</td><td style=\"text-align: right;\">  9.776</td></tr>\n",
       "</tbody>\n",
       "</table><pre style='font-size: smaller; margin-bottom: 1em;'>[5 rows x 10 columns]</pre>"
      ],
      "text/plain": [
       "  carat    cut    color    clarity    depth    table     x     y     z    price\n",
       "-------  -----  -------  ---------  -------  -------  ----  ----  ----  -------\n",
       "   1.02      1        6          3     63.2       58  6.36  6.4   4.03    8.928\n",
       "   0.35      2        2          5     61         57  4.54  4.57  2.77    6.477\n",
       "   0.31      3        2          6     60.5       58  4.43  4.4   2.67    6.81\n",
       "   0.38      4        5          4     61.4       56  4.66  4.69  2.87    6.824\n",
       "   1.64      4        3          5     61.8       56  7.59  7.6   4.69    9.776\n",
       "[5 rows x 10 columns]\n"
      ]
     },
     "execution_count": 33,
     "metadata": {},
     "output_type": "execute_result"
    }
   ],
   "source": [
    "df.head(5)"
   ]
  },
  {
   "cell_type": "code",
   "execution_count": 34,
   "id": "395cbd3e",
   "metadata": {},
   "outputs": [],
   "source": [
    "y = \"price\" # define variable to predict"
   ]
  },
  {
   "cell_type": "code",
   "execution_count": 35,
   "id": "33797463",
   "metadata": {},
   "outputs": [],
   "source": [
    "splits = df.split_frame(ratios = [0.8], seed = 1) # split the data into 80% (train) and 20% (test)\n",
    "train = splits[0]\n",
    "test = splits[1]"
   ]
  },
  {
   "cell_type": "markdown",
   "id": "3073c134",
   "metadata": {},
   "source": [
    "***from the docs***\n",
    "\n",
    "Run AutoML, stopping after 60 seconds. The max_runtime_secs argument provides a way to limit the AutoML run by time. When using a time-limited stopping criterion, the number of models train will vary between runs. If different hardware is used or even if the same machine is used but the available compute resources on that machine are not the same between runs, then AutoML may be able to train more models on one run vs another."
   ]
  },
  {
   "cell_type": "code",
   "execution_count": 36,
   "id": "9a524a70",
   "metadata": {},
   "outputs": [
    {
     "name": "stdout",
     "output_type": "stream",
     "text": [
      "AutoML progress: |\n",
      "17:10:04.436: AutoML: XGBoost is not available; skipping it.\n",
      "\n",
      "███████████████████████████████████████████████████████████████| (done) 100%\n"
     ]
    },
    {
     "data": {
      "text/html": [
       "<pre style='margin: 1em 0 1em 0;'>Model Details\n",
       "=============\n",
       "H2OStackedEnsembleEstimator : Stacked Ensemble\n",
       "Model Key: StackedEnsemble_AllModels_1_AutoML_1_20230126_171004\n",
       "\n",
       "No summary for this model</pre>\n",
       "<div style='margin: 1em 0 1em 0;'><pre style='margin: 1em 0 1em 0;'>ModelMetricsRegressionGLM: stackedensemble\n",
       "** Reported on train data. **\n",
       "\n",
       "MSE: 0.0038255895357921315\n",
       "RMSE: 0.061851350315026525\n",
       "MAE: 0.044639396978760536\n",
       "RMSLE: 0.007090980372479514\n",
       "Mean Residual Deviance: 0.0038255895357921315\n",
       "R^2: 0.9959605481196969\n",
       "Null degrees of freedom: 10066\n",
       "Residual degrees of freedom: 10062\n",
       "Null deviance: 9534.02353991703\n",
       "Residual deviance: 38.51220985681939\n",
       "AIC: -27452.443398882733</pre></div>\n",
       "<div style='margin: 1em 0 1em 0;'><pre style='margin: 1em 0 1em 0;'>ModelMetricsRegressionGLM: stackedensemble\n",
       "** Reported on cross-validation data. **\n",
       "\n",
       "MSE: 0.00668840537929795\n",
       "RMSE: 0.08178267163218594\n",
       "MAE: 0.05902534537782874\n",
       "RMSLE: 0.009427704109318988\n",
       "Mean Residual Deviance: 0.00668840537929795\n",
       "R^2: 0.9929421575680373\n",
       "Null degrees of freedom: 35038\n",
       "Residual degrees of freedom: 35034\n",
       "Null deviance: 33207.40894175543\n",
       "Residual deviance: 234.3550360852209\n",
       "AIC: -76005.20600559119</pre></div>\n",
       "<div style='margin: 1em 0 1em 0;'>\n",
       "<style>\n",
       "\n",
       "#h2o-table-2.h2o-container {\n",
       "  overflow-x: auto;\n",
       "}\n",
       "#h2o-table-2 .h2o-table {\n",
       "  /* width: 100%; */\n",
       "  margin-top: 1em;\n",
       "  margin-bottom: 1em;\n",
       "}\n",
       "#h2o-table-2 .h2o-table caption {\n",
       "  white-space: nowrap;\n",
       "  caption-side: top;\n",
       "  text-align: left;\n",
       "  /* margin-left: 1em; */\n",
       "  margin: 0;\n",
       "  font-size: larger;\n",
       "}\n",
       "#h2o-table-2 .h2o-table thead {\n",
       "  white-space: nowrap; \n",
       "  position: sticky;\n",
       "  top: 0;\n",
       "  box-shadow: 0 -1px inset;\n",
       "}\n",
       "#h2o-table-2 .h2o-table tbody {\n",
       "  overflow: auto;\n",
       "}\n",
       "#h2o-table-2 .h2o-table th,\n",
       "#h2o-table-2 .h2o-table td {\n",
       "  text-align: right;\n",
       "  /* border: 1px solid; */\n",
       "}\n",
       "#h2o-table-2 .h2o-table tr:nth-child(even) {\n",
       "  /* background: #F5F5F5 */\n",
       "}\n",
       "\n",
       "</style>      \n",
       "<div id=\"h2o-table-2\" class=\"h2o-container\">\n",
       "  <table class=\"h2o-table\">\n",
       "    <caption>Cross-Validation Metrics Summary: </caption>\n",
       "    <thead><tr><th></th>\n",
       "<th>mean</th>\n",
       "<th>sd</th>\n",
       "<th>cv_1_valid</th>\n",
       "<th>cv_2_valid</th>\n",
       "<th>cv_3_valid</th>\n",
       "<th>cv_4_valid</th>\n",
       "<th>cv_5_valid</th></tr></thead>\n",
       "    <tbody><tr><td>mae</td>\n",
       "<td>0.0590247</td>\n",
       "<td>0.0001447</td>\n",
       "<td>0.0590643</td>\n",
       "<td>0.0587990</td>\n",
       "<td>0.0591897</td>\n",
       "<td>0.0590789</td>\n",
       "<td>0.0589915</td></tr>\n",
       "<tr><td>mean_residual_deviance</td>\n",
       "<td>0.0066884</td>\n",
       "<td>0.0001912</td>\n",
       "<td>0.0070179</td>\n",
       "<td>0.0065789</td>\n",
       "<td>0.0066953</td>\n",
       "<td>0.0065744</td>\n",
       "<td>0.0065757</td></tr>\n",
       "<tr><td>mse</td>\n",
       "<td>0.0066884</td>\n",
       "<td>0.0001912</td>\n",
       "<td>0.0070179</td>\n",
       "<td>0.0065789</td>\n",
       "<td>0.0066953</td>\n",
       "<td>0.0065744</td>\n",
       "<td>0.0065757</td></tr>\n",
       "<tr><td>null_deviance</td>\n",
       "<td>6641.482</td>\n",
       "<td>89.364426</td>\n",
       "<td>6514.9204</td>\n",
       "<td>6646.7812</td>\n",
       "<td>6694.406</td>\n",
       "<td>6749.0063</td>\n",
       "<td>6602.295</td></tr>\n",
       "<tr><td>r2</td>\n",
       "<td>0.9929388</td>\n",
       "<td>0.0002776</td>\n",
       "<td>0.9924764</td>\n",
       "<td>0.9930972</td>\n",
       "<td>0.992899</td>\n",
       "<td>0.9931765</td>\n",
       "<td>0.9930451</td></tr>\n",
       "<tr><td>residual_deviance</td>\n",
       "<td>46.871006</td>\n",
       "<td>1.373003</td>\n",
       "<td>48.991817</td>\n",
       "<td>45.881096</td>\n",
       "<td>47.53664</td>\n",
       "<td>46.027283</td>\n",
       "<td>45.918198</td></tr>\n",
       "<tr><td>rmse</td>\n",
       "<td>0.0817762</td>\n",
       "<td>0.0011601</td>\n",
       "<td>0.0837728</td>\n",
       "<td>0.0811103</td>\n",
       "<td>0.0818248</td>\n",
       "<td>0.0810826</td>\n",
       "<td>0.0810908</td></tr>\n",
       "<tr><td>rmsle</td>\n",
       "<td>0.0094271</td>\n",
       "<td>0.0001210</td>\n",
       "<td>0.0096302</td>\n",
       "<td>0.0093742</td>\n",
       "<td>0.0094449</td>\n",
       "<td>0.0093467</td>\n",
       "<td>0.0093394</td></tr></tbody>\n",
       "  </table>\n",
       "</div>\n",
       "</div><pre style=\"font-size: smaller; margin: 1em 0 0 0;\">\n",
       "\n",
       "[tips]\n",
       "Use `model.explain()` to inspect the model.\n",
       "--\n",
       "Use `h2o.display.toggle_user_tips()` to switch on/off this section.</pre>"
      ],
      "text/plain": [
       "Model Details\n",
       "=============\n",
       "H2OStackedEnsembleEstimator : Stacked Ensemble\n",
       "Model Key: StackedEnsemble_AllModels_1_AutoML_1_20230126_171004\n",
       "\n",
       "No summary for this model\n",
       "\n",
       "ModelMetricsRegressionGLM: stackedensemble\n",
       "** Reported on train data. **\n",
       "\n",
       "MSE: 0.0038255895357921315\n",
       "RMSE: 0.061851350315026525\n",
       "MAE: 0.044639396978760536\n",
       "RMSLE: 0.007090980372479514\n",
       "Mean Residual Deviance: 0.0038255895357921315\n",
       "R^2: 0.9959605481196969\n",
       "Null degrees of freedom: 10066\n",
       "Residual degrees of freedom: 10062\n",
       "Null deviance: 9534.02353991703\n",
       "Residual deviance: 38.51220985681939\n",
       "AIC: -27452.443398882733\n",
       "\n",
       "ModelMetricsRegressionGLM: stackedensemble\n",
       "** Reported on cross-validation data. **\n",
       "\n",
       "MSE: 0.00668840537929795\n",
       "RMSE: 0.08178267163218594\n",
       "MAE: 0.05902534537782874\n",
       "RMSLE: 0.009427704109318988\n",
       "Mean Residual Deviance: 0.00668840537929795\n",
       "R^2: 0.9929421575680373\n",
       "Null degrees of freedom: 35038\n",
       "Residual degrees of freedom: 35034\n",
       "Null deviance: 33207.40894175543\n",
       "Residual deviance: 234.3550360852209\n",
       "AIC: -76005.20600559119\n",
       "\n",
       "Cross-Validation Metrics Summary: \n",
       "                        mean        sd           cv_1_valid    cv_2_valid    cv_3_valid    cv_4_valid    cv_5_valid\n",
       "----------------------  ----------  -----------  ------------  ------------  ------------  ------------  ------------\n",
       "mae                     0.0590247   0.000144717  0.0590643     0.058799      0.0591897     0.0590789     0.0589915\n",
       "mean_residual_deviance  0.00668843  0.000191244  0.00701788    0.00657888    0.0066953     0.00657439    0.00657571\n",
       "mse                     0.00668843  0.000191244  0.00701788    0.00657888    0.0066953     0.00657439    0.00657571\n",
       "null_deviance           6641.48     89.3644      6514.92       6646.78       6694.41       6749.01       6602.3\n",
       "r2                      0.992939    0.000277609  0.992476      0.993097      0.992899      0.993176      0.993045\n",
       "residual_deviance       46.871      1.373        48.9918       45.8811       47.5366       46.0273       45.9182\n",
       "rmse                    0.0817762   0.00116007   0.0837728     0.0811103     0.0818248     0.0810826     0.0810908\n",
       "rmsle                   0.00942707  0.000120956  0.00963017    0.00937419    0.00944494    0.00934667    0.00933936\n",
       "\n",
       "[tips]\n",
       "Use `model.explain()` to inspect the model.\n",
       "--\n",
       "Use `h2o.display.toggle_user_tips()` to switch on/off this section."
      ]
     },
     "execution_count": 36,
     "metadata": {},
     "output_type": "execute_result"
    }
   ],
   "source": [
    "aml = H2OAutoML(max_runtime_secs = 60, seed = 1, project_name = \"diamonds_automl\")\n",
    "aml.train(y = y, training_frame = df)"
   ]
  },
  {
   "cell_type": "code",
   "execution_count": 37,
   "id": "231ab34c",
   "metadata": {},
   "outputs": [
    {
     "data": {
      "text/html": [
       "<table class='dataframe'>\n",
       "<thead>\n",
       "<tr><th>model_id                                               </th><th style=\"text-align: right;\">     rmse</th><th style=\"text-align: right;\">       mse</th><th style=\"text-align: right;\">      mae</th><th style=\"text-align: right;\">     rmsle</th><th style=\"text-align: right;\">  mean_residual_deviance</th></tr>\n",
       "</thead>\n",
       "<tbody>\n",
       "<tr><td>StackedEnsemble_AllModels_1_AutoML_1_20230126_171004   </td><td style=\"text-align: right;\">0.0817827</td><td style=\"text-align: right;\">0.00668841</td><td style=\"text-align: right;\">0.0590253</td><td style=\"text-align: right;\">0.0094277 </td><td style=\"text-align: right;\">              0.00668841</td></tr>\n",
       "<tr><td>StackedEnsemble_AllModels_2_AutoML_1_20230126_171004   </td><td style=\"text-align: right;\">0.0817838</td><td style=\"text-align: right;\">0.00668859</td><td style=\"text-align: right;\">0.0590258</td><td style=\"text-align: right;\">0.00942781</td><td style=\"text-align: right;\">              0.00668859</td></tr>\n",
       "<tr><td>GBM_4_AutoML_1_20230126_171004                         </td><td style=\"text-align: right;\">0.0818098</td><td style=\"text-align: right;\">0.00669284</td><td style=\"text-align: right;\">0.0590172</td><td style=\"text-align: right;\">0.00943082</td><td style=\"text-align: right;\">              0.00669284</td></tr>\n",
       "<tr><td>StackedEnsemble_BestOfFamily_3_AutoML_1_20230126_171004</td><td style=\"text-align: right;\">0.0818269</td><td style=\"text-align: right;\">0.00669564</td><td style=\"text-align: right;\">0.0590677</td><td style=\"text-align: right;\">0.00943323</td><td style=\"text-align: right;\">              0.00669564</td></tr>\n",
       "<tr><td>StackedEnsemble_BestOfFamily_2_AutoML_1_20230126_171004</td><td style=\"text-align: right;\">0.0818302</td><td style=\"text-align: right;\">0.00669618</td><td style=\"text-align: right;\">0.0590783</td><td style=\"text-align: right;\">0.00943358</td><td style=\"text-align: right;\">              0.00669618</td></tr>\n",
       "<tr><td>StackedEnsemble_AllModels_3_AutoML_1_20230126_171004   </td><td style=\"text-align: right;\">0.0819485</td><td style=\"text-align: right;\">0.00671556</td><td style=\"text-align: right;\">0.0593295</td><td style=\"text-align: right;\">0.00945363</td><td style=\"text-align: right;\">              0.00671556</td></tr>\n",
       "<tr><td>GBM_3_AutoML_1_20230126_171004                         </td><td style=\"text-align: right;\">0.0820467</td><td style=\"text-align: right;\">0.00673166</td><td style=\"text-align: right;\">0.0596624</td><td style=\"text-align: right;\">0.00947957</td><td style=\"text-align: right;\">              0.00673166</td></tr>\n",
       "<tr><td>GBM_2_AutoML_1_20230126_171004                         </td><td style=\"text-align: right;\">0.0827527</td><td style=\"text-align: right;\">0.00684802</td><td style=\"text-align: right;\">0.0603549</td><td style=\"text-align: right;\">0.00957156</td><td style=\"text-align: right;\">              0.00684802</td></tr>\n",
       "<tr><td>GBM_1_AutoML_1_20230126_171004                         </td><td style=\"text-align: right;\">0.08288  </td><td style=\"text-align: right;\">0.00686909</td><td style=\"text-align: right;\">0.0603122</td><td style=\"text-align: right;\">0.00957377</td><td style=\"text-align: right;\">              0.00686909</td></tr>\n",
       "<tr><td>StackedEnsemble_BestOfFamily_1_AutoML_1_20230126_171004</td><td style=\"text-align: right;\">0.0829029</td><td style=\"text-align: right;\">0.0068729 </td><td style=\"text-align: right;\">0.0603834</td><td style=\"text-align: right;\">0.0095773 </td><td style=\"text-align: right;\">              0.0068729 </td></tr>\n",
       "</tbody>\n",
       "</table><pre style='font-size: smaller; margin-bottom: 1em;'>[10 rows x 6 columns]</pre>"
      ],
      "text/plain": [
       "model_id                                                      rmse         mse        mae       rmsle    mean_residual_deviance\n",
       "-------------------------------------------------------  ---------  ----------  ---------  ----------  ------------------------\n",
       "StackedEnsemble_AllModels_1_AutoML_1_20230126_171004     0.0817827  0.00668841  0.0590253  0.0094277                 0.00668841\n",
       "StackedEnsemble_AllModels_2_AutoML_1_20230126_171004     0.0817838  0.00668859  0.0590258  0.00942781                0.00668859\n",
       "GBM_4_AutoML_1_20230126_171004                           0.0818098  0.00669284  0.0590172  0.00943082                0.00669284\n",
       "StackedEnsemble_BestOfFamily_3_AutoML_1_20230126_171004  0.0818269  0.00669564  0.0590677  0.00943323                0.00669564\n",
       "StackedEnsemble_BestOfFamily_2_AutoML_1_20230126_171004  0.0818302  0.00669618  0.0590783  0.00943358                0.00669618\n",
       "StackedEnsemble_AllModels_3_AutoML_1_20230126_171004     0.0819485  0.00671556  0.0593295  0.00945363                0.00671556\n",
       "GBM_3_AutoML_1_20230126_171004                           0.0820467  0.00673166  0.0596624  0.00947957                0.00673166\n",
       "GBM_2_AutoML_1_20230126_171004                           0.0827527  0.00684802  0.0603549  0.00957156                0.00684802\n",
       "GBM_1_AutoML_1_20230126_171004                           0.08288    0.00686909  0.0603122  0.00957377                0.00686909\n",
       "StackedEnsemble_BestOfFamily_1_AutoML_1_20230126_171004  0.0829029  0.0068729   0.0603834  0.0095773                 0.0068729\n",
       "[10 rows x 6 columns]\n"
      ]
     },
     "execution_count": 37,
     "metadata": {},
     "output_type": "execute_result"
    }
   ],
   "source": [
    "aml.leaderboard.head()"
   ]
  },
  {
   "cell_type": "markdown",
   "id": "70bfa254",
   "metadata": {},
   "source": [
    "With h2o AutoML we found a model with RMSE 0.0067, much better than the XGBRegressor model from Lazy Predict (RMSE 0.08), although there is not hyperarameter tunning there."
   ]
  },
  {
   "cell_type": "code",
   "execution_count": 39,
   "id": "0076611e",
   "metadata": {},
   "outputs": [],
   "source": [
    "# get the leader\n",
    "leader = aml.leader"
   ]
  },
  {
   "cell_type": "code",
   "execution_count": 40,
   "id": "0fac9239",
   "metadata": {},
   "outputs": [
    {
     "data": {
      "text/html": [
       "<pre style='margin: 1em 0 1em 0;'>Model Details\n",
       "=============\n",
       "H2OStackedEnsembleEstimator : Stacked Ensemble\n",
       "Model Key: StackedEnsemble_AllModels_1_AutoML_1_20230126_171004\n",
       "\n",
       "No summary for this model</pre>\n",
       "<div style='margin: 1em 0 1em 0;'><pre style='margin: 1em 0 1em 0;'>ModelMetricsRegressionGLM: stackedensemble\n",
       "** Reported on train data. **\n",
       "\n",
       "MSE: 0.0038255895357921315\n",
       "RMSE: 0.061851350315026525\n",
       "MAE: 0.044639396978760536\n",
       "RMSLE: 0.007090980372479514\n",
       "Mean Residual Deviance: 0.0038255895357921315\n",
       "R^2: 0.9959605481196969\n",
       "Null degrees of freedom: 10066\n",
       "Residual degrees of freedom: 10062\n",
       "Null deviance: 9534.02353991703\n",
       "Residual deviance: 38.51220985681939\n",
       "AIC: -27452.443398882733</pre></div>\n",
       "<div style='margin: 1em 0 1em 0;'><pre style='margin: 1em 0 1em 0;'>ModelMetricsRegressionGLM: stackedensemble\n",
       "** Reported on cross-validation data. **\n",
       "\n",
       "MSE: 0.00668840537929795\n",
       "RMSE: 0.08178267163218594\n",
       "MAE: 0.05902534537782874\n",
       "RMSLE: 0.009427704109318988\n",
       "Mean Residual Deviance: 0.00668840537929795\n",
       "R^2: 0.9929421575680373\n",
       "Null degrees of freedom: 35038\n",
       "Residual degrees of freedom: 35034\n",
       "Null deviance: 33207.40894175543\n",
       "Residual deviance: 234.3550360852209\n",
       "AIC: -76005.20600559119</pre></div>\n",
       "<div style='margin: 1em 0 1em 0;'>\n",
       "<style>\n",
       "\n",
       "#h2o-table-3.h2o-container {\n",
       "  overflow-x: auto;\n",
       "}\n",
       "#h2o-table-3 .h2o-table {\n",
       "  /* width: 100%; */\n",
       "  margin-top: 1em;\n",
       "  margin-bottom: 1em;\n",
       "}\n",
       "#h2o-table-3 .h2o-table caption {\n",
       "  white-space: nowrap;\n",
       "  caption-side: top;\n",
       "  text-align: left;\n",
       "  /* margin-left: 1em; */\n",
       "  margin: 0;\n",
       "  font-size: larger;\n",
       "}\n",
       "#h2o-table-3 .h2o-table thead {\n",
       "  white-space: nowrap; \n",
       "  position: sticky;\n",
       "  top: 0;\n",
       "  box-shadow: 0 -1px inset;\n",
       "}\n",
       "#h2o-table-3 .h2o-table tbody {\n",
       "  overflow: auto;\n",
       "}\n",
       "#h2o-table-3 .h2o-table th,\n",
       "#h2o-table-3 .h2o-table td {\n",
       "  text-align: right;\n",
       "  /* border: 1px solid; */\n",
       "}\n",
       "#h2o-table-3 .h2o-table tr:nth-child(even) {\n",
       "  /* background: #F5F5F5 */\n",
       "}\n",
       "\n",
       "</style>      \n",
       "<div id=\"h2o-table-3\" class=\"h2o-container\">\n",
       "  <table class=\"h2o-table\">\n",
       "    <caption>Cross-Validation Metrics Summary: </caption>\n",
       "    <thead><tr><th></th>\n",
       "<th>mean</th>\n",
       "<th>sd</th>\n",
       "<th>cv_1_valid</th>\n",
       "<th>cv_2_valid</th>\n",
       "<th>cv_3_valid</th>\n",
       "<th>cv_4_valid</th>\n",
       "<th>cv_5_valid</th></tr></thead>\n",
       "    <tbody><tr><td>mae</td>\n",
       "<td>0.0590247</td>\n",
       "<td>0.0001447</td>\n",
       "<td>0.0590643</td>\n",
       "<td>0.0587990</td>\n",
       "<td>0.0591897</td>\n",
       "<td>0.0590789</td>\n",
       "<td>0.0589915</td></tr>\n",
       "<tr><td>mean_residual_deviance</td>\n",
       "<td>0.0066884</td>\n",
       "<td>0.0001912</td>\n",
       "<td>0.0070179</td>\n",
       "<td>0.0065789</td>\n",
       "<td>0.0066953</td>\n",
       "<td>0.0065744</td>\n",
       "<td>0.0065757</td></tr>\n",
       "<tr><td>mse</td>\n",
       "<td>0.0066884</td>\n",
       "<td>0.0001912</td>\n",
       "<td>0.0070179</td>\n",
       "<td>0.0065789</td>\n",
       "<td>0.0066953</td>\n",
       "<td>0.0065744</td>\n",
       "<td>0.0065757</td></tr>\n",
       "<tr><td>null_deviance</td>\n",
       "<td>6641.482</td>\n",
       "<td>89.364426</td>\n",
       "<td>6514.9204</td>\n",
       "<td>6646.7812</td>\n",
       "<td>6694.406</td>\n",
       "<td>6749.0063</td>\n",
       "<td>6602.295</td></tr>\n",
       "<tr><td>r2</td>\n",
       "<td>0.9929388</td>\n",
       "<td>0.0002776</td>\n",
       "<td>0.9924764</td>\n",
       "<td>0.9930972</td>\n",
       "<td>0.992899</td>\n",
       "<td>0.9931765</td>\n",
       "<td>0.9930451</td></tr>\n",
       "<tr><td>residual_deviance</td>\n",
       "<td>46.871006</td>\n",
       "<td>1.373003</td>\n",
       "<td>48.991817</td>\n",
       "<td>45.881096</td>\n",
       "<td>47.53664</td>\n",
       "<td>46.027283</td>\n",
       "<td>45.918198</td></tr>\n",
       "<tr><td>rmse</td>\n",
       "<td>0.0817762</td>\n",
       "<td>0.0011601</td>\n",
       "<td>0.0837728</td>\n",
       "<td>0.0811103</td>\n",
       "<td>0.0818248</td>\n",
       "<td>0.0810826</td>\n",
       "<td>0.0810908</td></tr>\n",
       "<tr><td>rmsle</td>\n",
       "<td>0.0094271</td>\n",
       "<td>0.0001210</td>\n",
       "<td>0.0096302</td>\n",
       "<td>0.0093742</td>\n",
       "<td>0.0094449</td>\n",
       "<td>0.0093467</td>\n",
       "<td>0.0093394</td></tr></tbody>\n",
       "  </table>\n",
       "</div>\n",
       "</div><pre style=\"font-size: smaller; margin: 1em 0 0 0;\">\n",
       "\n",
       "[tips]\n",
       "Use `model.explain()` to inspect the model.\n",
       "--\n",
       "Use `h2o.display.toggle_user_tips()` to switch on/off this section.</pre>"
      ],
      "text/plain": [
       "Model Details\n",
       "=============\n",
       "H2OStackedEnsembleEstimator : Stacked Ensemble\n",
       "Model Key: StackedEnsemble_AllModels_1_AutoML_1_20230126_171004\n",
       "\n",
       "No summary for this model\n",
       "\n",
       "ModelMetricsRegressionGLM: stackedensemble\n",
       "** Reported on train data. **\n",
       "\n",
       "MSE: 0.0038255895357921315\n",
       "RMSE: 0.061851350315026525\n",
       "MAE: 0.044639396978760536\n",
       "RMSLE: 0.007090980372479514\n",
       "Mean Residual Deviance: 0.0038255895357921315\n",
       "R^2: 0.9959605481196969\n",
       "Null degrees of freedom: 10066\n",
       "Residual degrees of freedom: 10062\n",
       "Null deviance: 9534.02353991703\n",
       "Residual deviance: 38.51220985681939\n",
       "AIC: -27452.443398882733\n",
       "\n",
       "ModelMetricsRegressionGLM: stackedensemble\n",
       "** Reported on cross-validation data. **\n",
       "\n",
       "MSE: 0.00668840537929795\n",
       "RMSE: 0.08178267163218594\n",
       "MAE: 0.05902534537782874\n",
       "RMSLE: 0.009427704109318988\n",
       "Mean Residual Deviance: 0.00668840537929795\n",
       "R^2: 0.9929421575680373\n",
       "Null degrees of freedom: 35038\n",
       "Residual degrees of freedom: 35034\n",
       "Null deviance: 33207.40894175543\n",
       "Residual deviance: 234.3550360852209\n",
       "AIC: -76005.20600559119\n",
       "\n",
       "Cross-Validation Metrics Summary: \n",
       "                        mean        sd           cv_1_valid    cv_2_valid    cv_3_valid    cv_4_valid    cv_5_valid\n",
       "----------------------  ----------  -----------  ------------  ------------  ------------  ------------  ------------\n",
       "mae                     0.0590247   0.000144717  0.0590643     0.058799      0.0591897     0.0590789     0.0589915\n",
       "mean_residual_deviance  0.00668843  0.000191244  0.00701788    0.00657888    0.0066953     0.00657439    0.00657571\n",
       "mse                     0.00668843  0.000191244  0.00701788    0.00657888    0.0066953     0.00657439    0.00657571\n",
       "null_deviance           6641.48     89.3644      6514.92       6646.78       6694.41       6749.01       6602.3\n",
       "r2                      0.992939    0.000277609  0.992476      0.993097      0.992899      0.993176      0.993045\n",
       "residual_deviance       46.871      1.373        48.9918       45.8811       47.5366       46.0273       45.9182\n",
       "rmse                    0.0817762   0.00116007   0.0837728     0.0811103     0.0818248     0.0810826     0.0810908\n",
       "rmsle                   0.00942707  0.000120956  0.00963017    0.00937419    0.00944494    0.00934667    0.00933936\n",
       "\n",
       "[tips]\n",
       "Use `model.explain()` to inspect the model.\n",
       "--\n",
       "Use `h2o.display.toggle_user_tips()` to switch on/off this section."
      ]
     },
     "execution_count": 40,
     "metadata": {},
     "output_type": "execute_result"
    }
   ],
   "source": [
    "leader"
   ]
  },
  {
   "cell_type": "code",
   "execution_count": 41,
   "id": "fbf78785",
   "metadata": {},
   "outputs": [
    {
     "data": {
      "text/plain": [
       "'C:\\\\Users\\\\mplan\\\\Ironhack\\\\Bootcamp\\\\project-5\\\\project-5\\\\src\\\\models\\\\StackedEnsemble_AllModels_1_AutoML_1_20230126_171004'"
      ]
     },
     "execution_count": 41,
     "metadata": {},
     "output_type": "execute_result"
    }
   ],
   "source": [
    "# save the model\n",
    "h2o.save_model(model = leader, path ='./models/', force = True)"
   ]
  },
  {
   "cell_type": "code",
   "execution_count": 51,
   "id": "b317dc1f",
   "metadata": {},
   "outputs": [
    {
     "name": "stdout",
     "output_type": "stream",
     "text": [
      "stackedensemble prediction progress: |███████████████████████████████████████████| (done) 100%\n"
     ]
    },
    {
     "data": {
      "text/html": [
       "<table class='dataframe'>\n",
       "<thead>\n",
       "<tr><th style=\"text-align: right;\">  predict</th></tr>\n",
       "</thead>\n",
       "<tbody>\n",
       "<tr><td style=\"text-align: right;\">  8.83306</td></tr>\n",
       "<tr><td style=\"text-align: right;\">  6.53481</td></tr>\n",
       "<tr><td style=\"text-align: right;\">  6.80469</td></tr>\n",
       "<tr><td style=\"text-align: right;\">  6.87042</td></tr>\n",
       "<tr><td style=\"text-align: right;\">  9.7344 </td></tr>\n",
       "<tr><td style=\"text-align: right;\">  9.37925</td></tr>\n",
       "<tr><td style=\"text-align: right;\">  8.24233</td></tr>\n",
       "<tr><td style=\"text-align: right;\">  8.55514</td></tr>\n",
       "<tr><td style=\"text-align: right;\">  6.72642</td></tr>\n",
       "<tr><td style=\"text-align: right;\">  8.08793</td></tr>\n",
       "</tbody>\n",
       "</table><pre style='font-size: smaller; margin-bottom: 1em;'>[10 rows x 1 column]</pre>"
      ],
      "text/plain": [
       "  predict\n",
       "---------\n",
       "  8.83306\n",
       "  6.53481\n",
       "  6.80469\n",
       "  6.87042\n",
       "  9.7344\n",
       "  9.37925\n",
       "  8.24233\n",
       "  8.55514\n",
       "  6.72642\n",
       "  8.08793\n",
       "[10 rows x 1 column]\n"
      ]
     },
     "execution_count": 51,
     "metadata": {},
     "output_type": "execute_result"
    }
   ],
   "source": [
    "# try yo make prediction on the same data\n",
    "pred = leader.predict(df)\n",
    "pred.head()"
   ]
  },
  {
   "cell_type": "code",
   "execution_count": 58,
   "id": "fe0908e7",
   "metadata": {},
   "outputs": [
    {
     "data": {
      "text/html": [
       "<table class='dataframe'>\n",
       "<thead>\n",
       "<tr><th style=\"text-align: right;\">  price</th></tr>\n",
       "</thead>\n",
       "<tbody>\n",
       "<tr><td style=\"text-align: right;\">  8.928</td></tr>\n",
       "<tr><td style=\"text-align: right;\">  6.477</td></tr>\n",
       "<tr><td style=\"text-align: right;\">  6.81 </td></tr>\n",
       "<tr><td style=\"text-align: right;\">  6.824</td></tr>\n",
       "<tr><td style=\"text-align: right;\">  9.776</td></tr>\n",
       "<tr><td style=\"text-align: right;\">  9.316</td></tr>\n",
       "<tr><td style=\"text-align: right;\">  8.292</td></tr>\n",
       "<tr><td style=\"text-align: right;\">  8.568</td></tr>\n",
       "<tr><td style=\"text-align: right;\">  6.75 </td></tr>\n",
       "<tr><td style=\"text-align: right;\">  8.081</td></tr>\n",
       "</tbody>\n",
       "</table><pre style='font-size: smaller; margin-bottom: 1em;'>[10 rows x 1 column]</pre>"
      ],
      "text/plain": [
       "  price\n",
       "-------\n",
       "  8.928\n",
       "  6.477\n",
       "  6.81\n",
       "  6.824\n",
       "  9.776\n",
       "  9.316\n",
       "  8.292\n",
       "  8.568\n",
       "  6.75\n",
       "  8.081\n",
       "[10 rows x 1 column]\n"
      ]
     },
     "execution_count": 58,
     "metadata": {},
     "output_type": "execute_result"
    }
   ],
   "source": [
    "df['price'].head()"
   ]
  },
  {
   "cell_type": "markdown",
   "id": "d565193d",
   "metadata": {},
   "source": [
    "## Feature selection"
   ]
  },
  {
   "cell_type": "markdown",
   "id": "adc27ab8",
   "metadata": {},
   "source": [
    "## Considering selected features only"
   ]
  }
 ],
 "metadata": {
  "kernelspec": {
   "display_name": "Python 3 (ipykernel)",
   "language": "python",
   "name": "python3"
  },
  "language_info": {
   "codemirror_mode": {
    "name": "ipython",
    "version": 3
   },
   "file_extension": ".py",
   "mimetype": "text/x-python",
   "name": "python",
   "nbconvert_exporter": "python",
   "pygments_lexer": "ipython3",
   "version": "3.9.13"
  },
  "toc": {
   "base_numbering": 1,
   "nav_menu": {},
   "number_sections": true,
   "sideBar": true,
   "skip_h1_title": false,
   "title_cell": "Table of Contents",
   "title_sidebar": "Contents",
   "toc_cell": false,
   "toc_position": {},
   "toc_section_display": true,
   "toc_window_display": false
  }
 },
 "nbformat": 4,
 "nbformat_minor": 5
}
